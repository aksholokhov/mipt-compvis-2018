{
 "cells": [
  {
   "cell_type": "code",
   "execution_count": 1,
   "metadata": {},
   "outputs": [
    {
     "name": "stdout",
     "output_type": "stream",
     "text": [
      "Populating the interactive namespace from numpy and matplotlib\n"
     ]
    }
   ],
   "source": [
    "%pylab inline"
   ]
  },
  {
   "cell_type": "code",
   "execution_count": 2,
   "metadata": {},
   "outputs": [],
   "source": [
    "import os\n",
    "import cv2\n",
    "from cv2 import imread\n",
    "import pandas as pd\n",
    "import seaborn as sns\n",
    "\n",
    "from numpy.linalg import norm"
   ]
  },
  {
   "cell_type": "markdown",
   "metadata": {},
   "source": [
    "# 0. Итоговый функционал (для проверки задания)"
   ]
  },
  {
   "cell_type": "markdown",
   "metadata": {},
   "source": [
    "Для проверки необходимо вписать путь к проверочной картинке сюда, и запустить последовательно три ячейки. Если принятое программой решение вызывает вопросы -- можно передать флаг visualize=True, тогда функция дополнительно отобразит два изображения: маску, оставшуюся после дилатации, и области нарушения выпоклой оболочки ладони. "
   ]
  },
  {
   "cell_type": "code",
   "execution_count": 21,
   "metadata": {
    "collapsed": true
   },
   "outputs": [],
   "source": [
    "test_image = \"/home/user/please/insert/path/to/your/image/here.tif\"\n",
    "#test_image = \"train/001.tif\""
   ]
  },
  {
   "cell_type": "code",
   "execution_count": 3,
   "metadata": {
    "collapsed": true
   },
   "outputs": [],
   "source": [
    "def classify(feature):\n",
    "    if feature > 4.5 or feature < 0.3:\n",
    "        return 0\n",
    "    elif feature > 1.8:\n",
    "        return 4\n",
    "    elif feature > 1.05:\n",
    "        return 3\n",
    "    elif feature > 0.66:\n",
    "        return 2\n",
    "    else:\n",
    "        return 1\n",
    "    \n",
    "def to_answer(triangles):\n",
    "    if len(triangles) == 4:\n",
    "        return \"1-1-1-1-1\"\n",
    "    elif set(triangles) == set([1,2,3]):\n",
    "        return \"1-1-1-2\"\n",
    "    elif set(triangles) == set([1,2,4]):\n",
    "        return \"1-1-2-1\"\n",
    "    elif set(triangles) == set([1,3,4]):\n",
    "        return \"1-2-1-1\"\n",
    "    elif set(triangles) == set([2,3,4]):\n",
    "        return \"2-1-1-1\"\n",
    "    elif set(triangles) == set([1,2]):\n",
    "        return \"1-1-3\"\n",
    "    elif set(triangles) == set([1,3]):\n",
    "        return \"1-2-2\"\n",
    "    elif set(triangles) == set([1,4]):\n",
    "        return \"1-3-1\"\n",
    "    elif set(triangles) == set([2,3]):\n",
    "        return \"2-1-2\"\n",
    "    elif set(triangles) == set([2,4]):\n",
    "        return \"2-2-1\"\n",
    "    elif set(triangles) == set([3,4]):\n",
    "        return \"3-1-1\"\n",
    "    elif set(triangles) == set([1]):\n",
    "        return \"1-4\"\n",
    "    elif set(triangles) == set([2]):\n",
    "        return \"2-3\"\n",
    "    elif set(triangles) == set([3]):\n",
    "        return \"3-2\"\n",
    "    elif set(triangles) == set([4]):\n",
    "        return \"4-1\"\n",
    "    elif set(triangles) == set([]):\n",
    "        return \"5\"\n",
    "    \n",
    "def angle(A, B, C):\n",
    "    BA = np.array(A)-np.array(B)\n",
    "    BC = np.array(C)-np.array(B)\n",
    "    return np.degrees(np.arccos(BA.dot(BC)/(np.linalg.norm(BA)*np.linalg.norm(BC))))"
   ]
  },
  {
   "cell_type": "code",
   "execution_count": 23,
   "metadata": {
    "collapsed": true
   },
   "outputs": [],
   "source": [
    "def detect_fingers(img, visualize=False):\n",
    "    # Подбираем порог для бинаризации изображения\n",
    "    ret, thresh = cv2.threshold(img,80,255,cv2.THRESH_BINARY)\n",
    "    # Применяем медианный фильтр для устранения шумов бинаризации\n",
    "    median = cv2.medianBlur(thresh, 11)\n",
    "    # Проводим дилатацию чтобы склеить сомкнутые пальцы\n",
    "    kernel = np.ones((5,5),np.uint8)\n",
    "    dilation = cv2.dilate(median,kernel,iterations = 2)\n",
    "    # Находим все контуры на изображении\n",
    "    _, contours, hierarchy = cv2.findContours(dilation,2,1)\n",
    "    # Берем самый большой из них по площади\n",
    "    cnt_idx = np.argmax([cv2.contourArea(cnt) for cnt in contours])\n",
    "    cnt = contours[cnt_idx]\n",
    "    # Генерируем выпуклую оболочку этого контура\n",
    "    hull = cv2.convexHull(cnt,returnPoints = False)\n",
    "    # Находим дефекты выпуклой оболочки\n",
    "    defects = cv2.convexityDefects(cnt,hull)\n",
    "    # Находим центр масс изображения\n",
    "    M = cv2.moments(cnt)\n",
    "    cx = int(M['m10']/M['m00'])\n",
    "    cy = int(M['m01']/M['m00'])\n",
    "    centroid = tuple([cx, cy])\n",
    "    # Фильтруем дефекты (убираем слишком маленькие и сортируем по расстоянию до центра масс)\n",
    "    ok_defects = sorted(filter(lambda x: x[0][3] > 20000, defects), \n",
    "                        key=lambda x: np.linalg.norm(cnt[x[0][2]][0] - centroid), reverse=True)\n",
    "    triangles = []\n",
    "    img2 = img.copy()\n",
    "    angles = []\n",
    "    \n",
    "    for defect in ok_defects:\n",
    "        s,e,f,d = defect[0]\n",
    "        start = tuple(cnt[s][0])\n",
    "        end = tuple(cnt[e][0])\n",
    "        far = tuple(cnt[f][0])\n",
    "        # Если угол у основания дефекта > 100 или < 10, то это скорее всего не область между пальцами\n",
    "        if angle(start, far, end) < 100 and angle(start, far, end) > 10:\n",
    "            # Определяем между какими пальцами находится заданная область\n",
    "            feature = np.round(angle(far, start, end)/angle(far, end, start), 2)\n",
    "            k = classify(feature)\n",
    "            # Так как двух одинаковых областей на картинке быть не может, то \n",
    "            # в случае совпадения берем наиболее похожую \n",
    "            if k in triangles:\n",
    "                if k == 2:\n",
    "                    k = 1\n",
    "                elif k == 1:\n",
    "                    k = 2\n",
    "                elif k == 4:\n",
    "                    k = 3\n",
    "                elif k == 3:\n",
    "                    k = 4\n",
    "            if k != 0:\n",
    "                triangles.append(k)\n",
    "        # Рисуем изображения если задан такой флаг\n",
    "        if visualize:\n",
    "            cv2.line(img2,start,end,[255,0,0],2)\n",
    "            cv2.circle(img2,far,5,[255,0,0],-1)\n",
    "            cv2.circle(img2,centroid, 5,[255,0,0],-1)\n",
    "        if len(triangles) == 4:\n",
    "            break\n",
    "    if visualize:\n",
    "        f, (ax1, ax2) = plt.subplots(1, 2, sharey=True)\n",
    "        ax1.imshow(dilation)\n",
    "        ax1.set_title(\"Dilatated mask\")\n",
    "        ax2.imshow(img2)\n",
    "        ax2.set_title(\"Convexity deffects map\")\n",
    "    return to_answer(triangles)"
   ]
  },
  {
   "cell_type": "code",
   "execution_count": 22,
   "metadata": {},
   "outputs": [
    {
     "data": {
      "text/plain": [
       "'1-1-1-1-1'"
      ]
     },
     "execution_count": 22,
     "metadata": {},
     "output_type": "execute_result"
    }
   ],
   "source": [
    "detect_fingers(imread(test_image, cv2.IMREAD_GRAYSCALE)[:,:-15], visualize=False)"
   ]
  },
  {
   "cell_type": "markdown",
   "metadata": {},
   "source": [
    "## 1. Считаем набор данных"
   ]
  },
  {
   "cell_type": "code",
   "execution_count": 9,
   "metadata": {
    "collapsed": true
   },
   "outputs": [],
   "source": [
    "train_dir = \"train\""
   ]
  },
  {
   "cell_type": "code",
   "execution_count": 10,
   "metadata": {
    "collapsed": true
   },
   "outputs": [],
   "source": [
    "orig_dir = os.getcwd()\n",
    "os.chdir(orig_dir)\n",
    "data = [imread(os.path.join(train_dir, file_name), cv2.IMREAD_GRAYSCALE)[:,:-15] for file_name in os.listdir(train_dir)]"
   ]
  },
  {
   "cell_type": "markdown",
   "metadata": {},
   "source": [
    "Еще раз обращаю внимание, что в функцию распознавания изображение передается уже в черно-белом виде:"
   ]
  },
  {
   "cell_type": "code",
   "execution_count": 13,
   "metadata": {},
   "outputs": [
    {
     "data": {
      "text/plain": [
       "'2-3'"
      ]
     },
     "execution_count": 13,
     "metadata": {},
     "output_type": "execute_result"
    },
    {
     "data": {
      "image/png": "[encoded data removed]",
      "text/plain": [
       "<Figure size 576x396 with 2 Axes>"
      ]
     },
     "metadata": {},
     "output_type": "display_data"
    }
   ],
   "source": [
    "detect_fingers(data[288], visualize=True)"
   ]
  },
  {
   "cell_type": "markdown",
   "metadata": {},
   "source": [
    "## Подбор порогов для классификации"
   ]
  },
  {
   "cell_type": "markdown",
   "metadata": {},
   "source": [
    "В качестве признакового описания фрагментов \"между пальцев\" используется всего один признак: отношение углов у точки начала и точки конца. В силу нежелания подбирать среднее соотношение длин человеческих пальцев была размечена небольшая часть выборки из 10 картинок. Разметка лежит в файле \"fingers2.csv\"."
   ]
  },
  {
   "cell_type": "markdown",
   "metadata": {},
   "source": [
    "Классам были даны следующие метки: <br>\n",
    "\n",
    "1) Между мизинцем и безымяным <br> \n",
    "2) Между безымяным и средним <br>\n",
    "3) Между средним и указательным <br>\n",
    "4) Между указательным и большим <br>"
   ]
  },
  {
   "cell_type": "code",
   "execution_count": 15,
   "metadata": {},
   "outputs": [],
   "source": [
    "X = pd.read_csv(\"fingers2.csv\", sep=\",\")"
   ]
  },
  {
   "cell_type": "code",
   "execution_count": 17,
   "metadata": {},
   "outputs": [
    {
     "data": {
      "text/html": [
       "<div>\n",
       "<style scoped>\n",
       "    .dataframe tbody tr th:only-of-type {\n",
       "        vertical-align: middle;\n",
       "    }\n",
       "\n",
       "    .dataframe tbody tr th {\n",
       "        vertical-align: top;\n",
       "    }\n",
       "\n",
       "    .dataframe thead th {\n",
       "        text-align: right;\n",
       "    }\n",
       "</style>\n",
       "<table border=\"1\" class=\"dataframe\">\n",
       "  <thead>\n",
       "    <tr style=\"text-align: right;\">\n",
       "      <th></th>\n",
       "      <th>Unnamed: 0</th>\n",
       "      <th>id</th>\n",
       "      <th>feature</th>\n",
       "      <th>answer</th>\n",
       "    </tr>\n",
       "  </thead>\n",
       "  <tbody>\n",
       "    <tr>\n",
       "      <th>0</th>\n",
       "      <td>0</td>\n",
       "      <td>95</td>\n",
       "      <td>2.45</td>\n",
       "      <td>4</td>\n",
       "    </tr>\n",
       "    <tr>\n",
       "      <th>1</th>\n",
       "      <td>1</td>\n",
       "      <td>95</td>\n",
       "      <td>0.59</td>\n",
       "      <td>1</td>\n",
       "    </tr>\n",
       "    <tr>\n",
       "      <th>2</th>\n",
       "      <td>2</td>\n",
       "      <td>95</td>\n",
       "      <td>0.65</td>\n",
       "      <td>2</td>\n",
       "    </tr>\n",
       "    <tr>\n",
       "      <th>3</th>\n",
       "      <td>3</td>\n",
       "      <td>9</td>\n",
       "      <td>2.15</td>\n",
       "      <td>4</td>\n",
       "    </tr>\n",
       "    <tr>\n",
       "      <th>4</th>\n",
       "      <td>4</td>\n",
       "      <td>9</td>\n",
       "      <td>1.52</td>\n",
       "      <td>3</td>\n",
       "    </tr>\n",
       "    <tr>\n",
       "      <th>5</th>\n",
       "      <td>5</td>\n",
       "      <td>9</td>\n",
       "      <td>0.54</td>\n",
       "      <td>1</td>\n",
       "    </tr>\n",
       "    <tr>\n",
       "      <th>6</th>\n",
       "      <td>6</td>\n",
       "      <td>9</td>\n",
       "      <td>0.72</td>\n",
       "      <td>2</td>\n",
       "    </tr>\n",
       "    <tr>\n",
       "      <th>7</th>\n",
       "      <td>7</td>\n",
       "      <td>295</td>\n",
       "      <td>3.51</td>\n",
       "      <td>4</td>\n",
       "    </tr>\n",
       "    <tr>\n",
       "      <th>8</th>\n",
       "      <td>8</td>\n",
       "      <td>295</td>\n",
       "      <td>1.32</td>\n",
       "      <td>3</td>\n",
       "    </tr>\n",
       "    <tr>\n",
       "      <th>9</th>\n",
       "      <td>9</td>\n",
       "      <td>295</td>\n",
       "      <td>0.84</td>\n",
       "      <td>2</td>\n",
       "    </tr>\n",
       "  </tbody>\n",
       "</table>\n",
       "</div>"
      ],
      "text/plain": [
       "   Unnamed: 0   id  feature  answer\n",
       "0           0   95     2.45       4\n",
       "1           1   95     0.59       1\n",
       "2           2   95     0.65       2\n",
       "3           3    9     2.15       4\n",
       "4           4    9     1.52       3\n",
       "5           5    9     0.54       1\n",
       "6           6    9     0.72       2\n",
       "7           7  295     3.51       4\n",
       "8           8  295     1.32       3\n",
       "9           9  295     0.84       2"
      ]
     },
     "execution_count": 17,
     "metadata": {},
     "output_type": "execute_result"
    }
   ],
   "source": [
    "X[:10]"
   ]
  },
  {
   "cell_type": "code",
   "execution_count": 131,
   "metadata": {},
   "outputs": [
    {
     "data": {
      "text/plain": [
       "<matplotlib.axes._subplots.AxesSubplot at 0x11d2b9ef0>"
      ]
     },
     "execution_count": 131,
     "metadata": {},
     "output_type": "execute_result"
    },
    {
     "data": {
      "image/png": "[encoded data removed]",
      "text/plain": [
       "<Figure size 576x396 with 1 Axes>"
      ]
     },
     "metadata": {},
     "output_type": "display_data"
    }
   ],
   "source": [
    "sns.stripplot(x=\"answer\", y=\"feature\", data=X, jitter=True)"
   ]
  },
  {
   "cell_type": "markdown",
   "metadata": {},
   "source": [
    "По графику были подобраны следующие пороги:"
   ]
  },
  {
   "cell_type": "code",
   "execution_count": 19,
   "metadata": {},
   "outputs": [],
   "source": [
    "def classify(feature):\n",
    "    if feature > 4.5 or feature < 0.3:\n",
    "        return 0\n",
    "    elif feature > 1.8:\n",
    "        return 4\n",
    "    elif feature > 1.05:\n",
    "        return 3\n",
    "    elif feature > 0.66:\n",
    "        return 2\n",
    "    else:\n",
    "        return 1"
   ]
  },
  {
   "cell_type": "markdown",
   "metadata": {},
   "source": [
    "## 2. Процесс разработки"
   ]
  },
  {
   "cell_type": "markdown",
   "metadata": {},
   "source": [
    "Ниже было много кода для разработки и дебага, но я их потер чтобы не мозолило глаза. Если потребуется -- можно взять в этом репозитории:"
   ]
  },
  {
   "cell_type": "markdown",
   "metadata": {},
   "source": [
    "bitbucket.org/aksholokhov/compvis-mipt18/"
   ]
  }
 ],
 "metadata": {
  "kernelspec": {
   "display_name": "Python 3",
   "language": "python",
   "name": "python3"
  },
  "language_info": {
   "codemirror_mode": {
    "name": "ipython",
    "version": 3
   },
   "file_extension": ".py",
   "mimetype": "text/x-python",
   "name": "python",
   "nbconvert_exporter": "python",
   "pygments_lexer": "ipython3",
   "version": "3.6.1"
  }
 },
 "nbformat": 4,
 "nbformat_minor": 2
}
